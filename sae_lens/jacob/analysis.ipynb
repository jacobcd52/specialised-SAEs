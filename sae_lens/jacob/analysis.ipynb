{
 "cells": [
  {
   "cell_type": "markdown",
   "metadata": {},
   "source": [
    "Want:\n",
    "\n",
    "main/control loss for:\n",
    "\n",
    "- GSAE\n",
    "- GSAE finetune\n",
    "- GSAE-phys (sweep L0)\n",
    "- GSAE + SSAE (sweep L0)\n",
    "- clean loss"
   ]
  },
  {
   "cell_type": "code",
   "execution_count": 1,
   "metadata": {},
   "outputs": [],
   "source": [
    "import sys\n",
    "sys.path.append(\"/root/specialised-SAEs\")\n",
    "from datasets import load_dataset\n",
    "from transformer_lens import utils, HookedTransformer\n",
    "import gc\n",
    "import torch\n",
    "import matplotlib.pyplot as plt\n",
    "from sae_lens.jacob.load_sae_from_hf import load_sae_from_hf"
   ]
  },
  {
   "cell_type": "code",
   "execution_count": 2,
   "metadata": {},
   "outputs": [],
   "source": [
    "DTYPE = \"float32\""
   ]
  },
  {
   "cell_type": "code",
   "execution_count": 24,
   "metadata": {},
   "outputs": [
    {
     "name": "stdout",
     "output_type": "stream",
     "text": [
      "Loaded pretrained model gpt2-small into HookedTransformer\n"
     ]
    }
   ],
   "source": [
    "# model = HookedTransformer.from_pretrained(\"gpt2-small\", device=\"cuda\", dtype=DTYPE)"
   ]
  },
  {
   "cell_type": "code",
   "execution_count": 3,
   "metadata": {},
   "outputs": [
    {
     "name": "stdout",
     "output_type": "stream",
     "text": [
      "Downloading weights from Hugging Face Hub\n",
      "GSAE weights file saved as temp_sae/sae_weights.safetensors\n",
      "Downloading cfg from Hugging Face Hub\n",
      "GSAE cfg file saved as temp_sae/cfg.json\n",
      "Loading weights into GSAE from temp_sae/sae_weights.safetensors\n",
      "temp_sae/cfg.json temp_sae/sae_weights.safetensors\n",
      "Downloading weights from Hugging Face Hub\n"
     ]
    },
    {
     "data": {
      "application/vnd.jupyter.widget-view+json": {
       "model_id": "c12789c389ca4f3b9dacd745065b91c0",
       "version_major": 2,
       "version_minor": 0
      },
      "text/plain": [
       "(…)=2_tokens=10240000_lr=0.0001.safetensors:   0%|          | 0.00/269M [00:00<?, ?B/s]"
      ]
     },
     "metadata": {},
     "output_type": "display_data"
    },
    {
     "name": "stdout",
     "output_type": "stream",
     "text": [
      "GSAE weights file saved as temp_sae/sae_weights.safetensors\n",
      "Downloading cfg from Hugging Face Hub\n"
     ]
    },
    {
     "data": {
      "application/vnd.jupyter.widget-view+json": {
       "model_id": "25377e47943e4267b81ff681bd673324",
       "version_major": 2,
       "version_minor": 0
      },
      "text/plain": [
       "(…)eff=2_tokens=10240000_lr=0.0001_cfg.json:   0%|          | 0.00/2.58k [00:00<?, ?B/s]"
      ]
     },
     "metadata": {},
     "output_type": "display_data"
    },
    {
     "name": "stdout",
     "output_type": "stream",
     "text": [
      "GSAE cfg file saved as temp_sae/cfg.json\n",
      "Loading weights into GSAE from temp_sae/sae_weights.safetensors\n",
      "temp_sae/cfg.json temp_sae/sae_weights.safetensors\n",
      "Downloading weights from Hugging Face Hub\n"
     ]
    },
    {
     "data": {
      "application/vnd.jupyter.widget-view+json": {
       "model_id": "3469fd6bdc9b496cacfb15cfffc78c8c",
       "version_major": 2,
       "version_minor": 0
      },
      "text/plain": [
       "(…)=20_tokens=40960000_lr=0.001.safetensors:   0%|          | 0.00/302M [00:00<?, ?B/s]"
      ]
     },
     "metadata": {},
     "output_type": "display_data"
    },
    {
     "name": "stdout",
     "output_type": "stream",
     "text": [
      "GSAE weights file saved as temp_sae/sae_weights.safetensors\n",
      "Downloading cfg from Hugging Face Hub\n"
     ]
    },
    {
     "data": {
      "application/vnd.jupyter.widget-view+json": {
       "model_id": "27f3af3b312b44bab0b248833ed8b841",
       "version_major": 2,
       "version_minor": 0
      },
      "text/plain": [
       "(…)eff=20_tokens=40960000_lr=0.001_cfg.json:   0%|          | 0.00/2.58k [00:00<?, ?B/s]"
      ]
     },
     "metadata": {},
     "output_type": "display_data"
    },
    {
     "name": "stdout",
     "output_type": "stream",
     "text": [
      "GSAE cfg file saved as temp_sae/cfg.json\n",
      "Loading weights into GSAE from temp_sae/sae_weights.safetensors\n",
      "temp_sae/cfg.json temp_sae/sae_weights.safetensors\n"
     ]
    }
   ],
   "source": [
    "gsae = load_sae_from_hf(\"jacobcd52/gemma2-gsae\", \n",
    "                        \"sae_weights.safetensors\", \n",
    "                        \"cfg.json\",\n",
    "                        device=\"cuda\",\n",
    "                        dtype=DTYPE)\n",
    "\n",
    "ft = load_sae_from_hf(\"jacobcd52/gemma2-gsae-finetune-phys\", \n",
    "                        \"l1_coeff=2_tokens=10240000_lr=0.0001.safetensors\", \n",
    "                        \"l1_coeff=2_tokens=10240000_lr=0.0001_cfg.json\",\n",
    "                        device=\"cuda\",\n",
    "                        dtype=DTYPE)\n",
    "\n",
    "ssae = load_sae_from_hf(\"jacobcd52/gemma2-ssae-phys\",\n",
    "                        \"l1_coeff=20_tokens=40960000_lr=0.001.safetensors\",\n",
    "                        \"l1_coeff=20_tokens=40960000_lr=0.001_cfg.json\",\n",
    "                        device=\"cuda\",\n",
    "                        dtype=DTYPE)"
   ]
  },
  {
   "cell_type": "code",
   "execution_count": 4,
   "metadata": {},
   "outputs": [],
   "source": [
    "ssae_dec = ssae.W_dec / ssae.W_dec.norm(dim=1, keepdim=True)\n",
    "ssae_enc = ssae.W_enc / ssae.W_enc.norm(dim=0, keepdim=True)\n",
    "gsae_dec = gsae.W_dec / gsae.W_dec.norm(dim=1, keepdim=True)\n",
    "gsae_enc = gsae.W_enc / gsae.W_enc.norm(dim=0, keepdim=True)\n",
    "ft_dec = ft.W_dec / ft.W_dec.norm(dim=1, keepdim=True)\n",
    "ft_enc = ft.W_enc / ft.W_enc.norm(dim=0, keepdim=True)"
   ]
  },
  {
   "cell_type": "code",
   "execution_count": 43,
   "metadata": {},
   "outputs": [
    {
     "name": "stdout",
     "output_type": "stream",
     "text": [
      "torch.Size([32768, 2048])\n",
      "torch.Size([4096, 2048])\n"
     ]
    },
    {
     "data": {
      "text/plain": [
       "torch.Size([4096])"
      ]
     },
     "execution_count": 43,
     "metadata": {},
     "output_type": "execute_result"
    }
   ],
   "source": [
    "ssae_dec_maxsims = (ssae_dec @ gsae_dec.T).max(dim=1).values\n",
    "ssae_enc_maxsims = (ssae_enc.T @ gsae_enc).max(dim=1).values\n",
    "\n",
    "ft_dec_maxsims = (ft_dec @ gsae_dec.T).max(dim=1).values\n",
    "ft_enc_maxsims = (ft_enc.T @ gsae_enc).max(dim=1).values\n",
    "ssae_dec_maxsims.shape, ssae_enc_maxsims.shape, ft_dec_maxsims.shape, ft_enc_maxsims.shape\n",
    "\n",
    "rand_dec = torch.randn_like(gsae_dec)\n",
    "rand_dec /= rand_dec.norm(dim=1, keepdim=True)\n",
    "print(rand_dec.shape)\n",
    "\n",
    "rand_dec2 = torch.randn_like(ssae_dec)\n",
    "rand_dec2 /= rand_dec2.norm(dim=1, keepdim=True)\n",
    "print(rand_dec2.shape)\n",
    "\n",
    "rand_dec_maxsims = (rand_dec @ rand_dec2.T).max(dim=0).values\n",
    "rand_dec_maxsims.shape"
   ]
  },
  {
   "cell_type": "code",
   "execution_count": 44,
   "metadata": {},
   "outputs": [
    {
     "data": {
      "text/plain": [
       "(array([  1.,   0.,   2.,   4.,  13.,   7.,  22.,  17.,  34.,  32.,  74.,\n",
       "         64.,  76., 105., 108., 119., 130., 109., 158., 143., 143., 178.,\n",
       "        146., 141., 130., 126., 138., 160., 124., 128., 142., 111.,  99.,\n",
       "         91.,  96.,  95.,  82.,  63.,  66.,  58.,  58.,  69.,  43.,  42.,\n",
       "         32.,  41.,  31.,  19.,  30.,  26.,  15.,  20.,  13.,  10.,  13.,\n",
       "         13.,   8.,   7.,  15.,   9.,   5.,   7.,   2.,   4.,   1.,   4.,\n",
       "          3.,   0.,   3.,   1.,   3.,   2.,   1.,   0.,   1.,   3.,   1.,\n",
       "          3.,   2.,   0.,   0.,   0.,   0.,   0.,   0.,   0.,   0.,   0.,\n",
       "          0.,   0.,   0.,   0.,   0.,   0.,   0.,   0.,   0.,   0.,   0.,\n",
       "          1.]),\n",
       " array([0.07663212, 0.07716014, 0.07768817, 0.0782162 , 0.07874422,\n",
       "        0.07927225, 0.07980027, 0.0803283 , 0.08085632, 0.08138435,\n",
       "        0.08191238, 0.0824404 , 0.08296842, 0.08349645, 0.08402447,\n",
       "        0.0845525 , 0.08508053, 0.08560855, 0.08613658, 0.0866646 ,\n",
       "        0.08719262, 0.08772065, 0.08824868, 0.08877671, 0.08930473,\n",
       "        0.08983275, 0.09036078, 0.09088881, 0.09141683, 0.09194486,\n",
       "        0.09247288, 0.0930009 , 0.09352893, 0.09405696, 0.09458499,\n",
       "        0.09511301, 0.09564103, 0.09616906, 0.09669708, 0.09722511,\n",
       "        0.09775314, 0.09828116, 0.09880919, 0.09933721, 0.09986524,\n",
       "        0.10039327, 0.10092129, 0.10144931, 0.10197734, 0.10250536,\n",
       "        0.10303339, 0.10356142, 0.10408944, 0.10461747, 0.10514549,\n",
       "        0.10567351, 0.10620154, 0.10672957, 0.10725759, 0.10778562,\n",
       "        0.10831364, 0.10884167, 0.1093697 , 0.10989772, 0.11042575,\n",
       "        0.11095377, 0.11148179, 0.11200982, 0.11253785, 0.11306588,\n",
       "        0.1135939 , 0.11412192, 0.11464995, 0.11517797, 0.115706  ,\n",
       "        0.11623403, 0.11676205, 0.11729007, 0.1178181 , 0.11834612,\n",
       "        0.11887415, 0.11940218, 0.1199302 , 0.12045823, 0.12098625,\n",
       "        0.12151428, 0.12204231, 0.12257033, 0.12309836, 0.12362638,\n",
       "        0.1241544 , 0.12468243, 0.12521046, 0.12573849, 0.12626651,\n",
       "        0.12679453, 0.12732255, 0.12785058, 0.12837861, 0.12890664,\n",
       "        0.12943466]),\n",
       " <BarContainer object of 100 artists>)"
      ]
     },
     "execution_count": 44,
     "metadata": {},
     "output_type": "execute_result"
    },
    {
     "data": {
      "image/png": "[encoded data removed]",
      "text/plain": [
       "<Figure size 640x480 with 1 Axes>"
      ]
     },
     "metadata": {},
     "output_type": "display_data"
    }
   ],
   "source": [
    "plt.hist(rand_dec_maxsims.detach().cpu().numpy(), bins=100, alpha=0.5, label=\"ssae\")"
   ]
  },
  {
   "cell_type": "code",
   "execution_count": 19,
   "metadata": {},
   "outputs": [
    {
     "data": {
      "image/png": "[encoded data removed]",
      "text/plain": [
       "<Figure size 1000x600 with 1 Axes>"
      ]
     },
     "metadata": {},
     "output_type": "display_data"
    }
   ],
   "source": [
    "ssae_maxsims_cpu = ssae_dec_maxsims.cpu().detach().numpy()\n",
    "ft_maxsims_cpu = ft_dec_maxsims.cpu().detach().numpy()\n",
    "\n",
    "plt.figure(figsize=(10, 6))\n",
    "plt.hist(ssae_maxsims_cpu, bins=50, alpha=0.5, label='ssae_maxsims')\n",
    "plt.hist(ft_maxsims_cpu, bins=50, alpha=0.5, label='ft_maxsims')\n",
    "plt.ylim(0, 1200)\n",
    "plt.xlabel('Values')\n",
    "plt.ylabel('Frequency')\n",
    "plt.title('Histogram of ssae_maxsims and ft_maxsims')\n",
    "plt.legend()\n",
    "plt.show()"
   ]
  },
  {
   "cell_type": "code",
   "execution_count": null,
   "metadata": {},
   "outputs": [],
   "source": [
    "ssae_maxsims_cpu = ssae_dec_maxsims.cpu().detach().numpy()\n",
    "ft_maxsims_cpu = ft_dec_maxsims.cpu().detach().numpy()\n",
    "\n",
    "plt.figure(figsize=(10, 6))\n",
    "plt.hist(ssae_maxsims_cpu, bins=50, alpha=0.5, label='ssae_maxsims')\n",
    "plt.hist(ft_maxsims_cpu, bins=50, alpha=0.5, label='ft_maxsims')\n",
    "plt.ylim(0, 1200)\n",
    "plt.xlabel('Values')\n",
    "plt.ylabel('Frequency')\n",
    "plt.title('Histogram of ssae_maxsims and ft_maxsims')\n",
    "plt.legend()\n",
    "plt.show()"
   ]
  },
  {
   "cell_type": "code",
   "execution_count": 21,
   "metadata": {},
   "outputs": [],
   "source": [
    "W_dec = torch.randn_like(ssae.W_dec)\n",
    "W_dec /= W_dec.norm(dim=1, keepdim=True)"
   ]
  },
  {
   "cell_type": "code",
   "execution_count": 20,
   "metadata": {},
   "outputs": [
    {
     "data": {
      "image/png": "[encoded data removed]",
      "text/plain": [
       "<Figure size 1000x600 with 1 Axes>"
      ]
     },
     "metadata": {},
     "output_type": "display_data"
    }
   ],
   "source": [
    "ssae_maxsims_cpu = ssae_enc_maxsims.cpu().detach().numpy()\n",
    "ft_maxsims_cpu = ft_enc_maxsims.cpu().detach().numpy()\n",
    "\n",
    "plt.figure(figsize=(10, 6))\n",
    "plt.hist(ssae_maxsims_cpu, bins=50, alpha=0.5, label='ssae_maxsims')\n",
    "plt.hist(ft_maxsims_cpu, bins=50, alpha=0.5, label='ft_maxsims')\n",
    "plt.ylim(0, 1200)\n",
    "plt.xlabel('Values')\n",
    "plt.ylabel('Frequency')\n",
    "plt.title('Histogram of ssae_maxsims and ft_maxsims')\n",
    "plt.legend()\n",
    "plt.show()"
   ]
  },
  {
   "cell_type": "code",
   "execution_count": 48,
   "metadata": {},
   "outputs": [],
   "source": [
    "diff_dec = gsae_dec - ft_dec\n",
    "diff_dec.shape"
   ]
  },
  {
   "cell_type": "code",
   "execution_count": 55,
   "metadata": {},
   "outputs": [
    {
     "ename": "AttributeError",
     "evalue": "module 'umap' has no attribute 'UMAP'",
     "output_type": "error",
     "traceback": [
      "\u001b[0;31m---------------------------------------------------------------------------\u001b[0m",
      "\u001b[0;31mAttributeError\u001b[0m                            Traceback (most recent call last)",
      "Cell \u001b[0;32mIn[55], line 5\u001b[0m\n\u001b[1;32m      3\u001b[0m \u001b[38;5;28;01mimport\u001b[39;00m \u001b[38;5;21;01mnumpy\u001b[39;00m \u001b[38;5;28;01mas\u001b[39;00m \u001b[38;5;21;01mnp\u001b[39;00m\n\u001b[1;32m      4\u001b[0m \u001b[38;5;66;03m# create the UMAP\u001b[39;00m\n\u001b[0;32m----> 5\u001b[0m reducer \u001b[38;5;241m=\u001b[39m \u001b[43mumap\u001b[49m\u001b[38;5;241;43m.\u001b[39;49m\u001b[43mUMAP\u001b[49m()\n\u001b[1;32m      6\u001b[0m embedding \u001b[38;5;241m=\u001b[39m reducer\u001b[38;5;241m.\u001b[39mfit_transform(diff_dec\u001b[38;5;241m.\u001b[39mcpu()\u001b[38;5;241m.\u001b[39mdetach()\u001b[38;5;241m.\u001b[39mnumpy())\n\u001b[1;32m      7\u001b[0m \u001b[38;5;66;03m# plot the UMAP\u001b[39;00m\n",
      "\u001b[0;31mAttributeError\u001b[0m: module 'umap' has no attribute 'UMAP'"
     ]
    }
   ],
   "source": [
    "# create UMAP of diff_dec\n",
    "import umap\n",
    "import numpy as np\n",
    "# create the UMAP\n"
   ]
  }
 ],
 "metadata": {
  "kernelspec": {
   "display_name": "Python 3",
   "language": "python",
   "name": "python3"
  },
  "language_info": {
   "codemirror_mode": {
    "name": "ipython",
    "version": 3
   },
   "file_extension": ".py",
   "mimetype": "text/x-python",
   "name": "python",
   "nbconvert_exporter": "python",
   "pygments_lexer": "ipython3",
   "version": "3.10.12"
  }
 },
 "nbformat": 4,
 "nbformat_minor": 2
}
