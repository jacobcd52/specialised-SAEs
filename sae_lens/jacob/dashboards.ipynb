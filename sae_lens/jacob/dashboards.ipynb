{
 "cells": [
  {
   "cell_type": "markdown",
   "metadata": {},
   "source": [
    "## imports & definitions"
   ]
  },
  {
   "cell_type": "code",
   "execution_count": 1,
   "metadata": {},
   "outputs": [
    {
     "name": "stdout",
     "output_type": "stream",
     "text": [
      "Collecting git+https://github.com/jbloomAus/SAEDashboard.git\n",
      "  Cloning https://github.com/jbloomAus/SAEDashboard.git to /tmp/pip-req-build-8im300sy\n",
      "  Running command git clone --filter=blob:none --quiet https://github.com/jbloomAus/SAEDashboard.git /tmp/pip-req-build-8im300sy\n",
      "  Resolved https://github.com/jbloomAus/SAEDashboard.git to commit a5f8df15ef8619c4d08655e777d379a05b453346\n",
      "  Installing build dependencies ... \u001b[?25ldone\n",
      "\u001b[?25h  Getting requirements to build wheel ... \u001b[?25ldone\n",
      "\u001b[?25h  Preparing metadata (pyproject.toml) ... \u001b[?25ldone\n",
      "\u001b[?25hRequirement already satisfied: dataclasses-json<0.7.0,>=0.6.4 in /usr/local/lib/python3.10/dist-packages (from sae-dashboard==0.3.0) (0.6.7)\n",
      "Requirement already satisfied: datasets<3.0.0,>=2.0.0 in /usr/local/lib/python3.10/dist-packages (from sae-dashboard==0.3.0) (2.20.0)\n",
      "Requirement already satisfied: eindex-callum<0.2.0,>=0.1.0 in /usr/local/lib/python3.10/dist-packages (from sae-dashboard==0.3.0) (0.1.2)\n",
      "Requirement already satisfied: einops<0.8.0,>=0.7.0 in /usr/local/lib/python3.10/dist-packages (from sae-dashboard==0.3.0) (0.7.0)\n",
      "Requirement already satisfied: isort<6.0.0,>=5.13.2 in /usr/local/lib/python3.10/dist-packages (from sae-dashboard==0.3.0) (5.13.2)\n",
      "Requirement already satisfied: jaxtyping<0.3.0,>=0.2.28 in /usr/local/lib/python3.10/dist-packages (from sae-dashboard==0.3.0) (0.2.33)\n",
      "Requirement already satisfied: matplotlib<4.0.0,>=3.8.4 in /usr/local/lib/python3.10/dist-packages (from sae-dashboard==0.3.0) (3.9.2)\n",
      "Requirement already satisfied: rich<14.0.0,>=13.7.1 in /usr/local/lib/python3.10/dist-packages (from sae-dashboard==0.3.0) (13.7.1)\n",
      "Requirement already satisfied: sae-lens<4.0.0,>=3.14.0 in /usr/local/lib/python3.10/dist-packages (from sae-dashboard==0.3.0) (3.16.0)\n",
      "Requirement already satisfied: safetensors<0.5.0,>=0.4.3 in /usr/local/lib/python3.10/dist-packages (from sae-dashboard==0.3.0) (0.4.4)\n",
      "Requirement already satisfied: torch<3.0.0,>=2.0.0 in /usr/local/lib/python3.10/dist-packages (from sae-dashboard==0.3.0) (2.1.0+cu118)\n",
      "Requirement already satisfied: transformer-lens<3.0.0,>=2.2.0 in /usr/local/lib/python3.10/dist-packages (from sae-dashboard==0.3.0) (2.3.0)\n",
      "Requirement already satisfied: typer<0.13.0,>=0.12.3 in /usr/local/lib/python3.10/dist-packages (from sae-dashboard==0.3.0) (0.12.3)\n",
      "Requirement already satisfied: marshmallow<4.0.0,>=3.18.0 in /usr/local/lib/python3.10/dist-packages (from dataclasses-json<0.7.0,>=0.6.4->sae-dashboard==0.3.0) (3.21.3)\n",
      "Requirement already satisfied: typing-inspect<1,>=0.4.0 in /usr/local/lib/python3.10/dist-packages (from dataclasses-json<0.7.0,>=0.6.4->sae-dashboard==0.3.0) (0.9.0)\n",
      "Requirement already satisfied: filelock in /usr/local/lib/python3.10/dist-packages (from datasets<3.0.0,>=2.0.0->sae-dashboard==0.3.0) (3.15.4)\n",
      "Requirement already satisfied: numpy>=1.17 in /usr/local/lib/python3.10/dist-packages (from datasets<3.0.0,>=2.0.0->sae-dashboard==0.3.0) (1.24.1)\n",
      "Requirement already satisfied: pyarrow>=15.0.0 in /usr/local/lib/python3.10/dist-packages (from datasets<3.0.0,>=2.0.0->sae-dashboard==0.3.0) (17.0.0)\n",
      "Requirement already satisfied: pyarrow-hotfix in /usr/local/lib/python3.10/dist-packages (from datasets<3.0.0,>=2.0.0->sae-dashboard==0.3.0) (0.6)\n",
      "Requirement already satisfied: dill<0.3.9,>=0.3.0 in /usr/local/lib/python3.10/dist-packages (from datasets<3.0.0,>=2.0.0->sae-dashboard==0.3.0) (0.3.8)\n",
      "Requirement already satisfied: pandas in /usr/local/lib/python3.10/dist-packages (from datasets<3.0.0,>=2.0.0->sae-dashboard==0.3.0) (2.2.2)\n",
      "Requirement already satisfied: requests>=2.32.2 in /usr/local/lib/python3.10/dist-packages (from datasets<3.0.0,>=2.0.0->sae-dashboard==0.3.0) (2.32.3)\n",
      "Requirement already satisfied: tqdm>=4.66.3 in /usr/local/lib/python3.10/dist-packages (from datasets<3.0.0,>=2.0.0->sae-dashboard==0.3.0) (4.66.5)\n",
      "Requirement already satisfied: xxhash in /usr/local/lib/python3.10/dist-packages (from datasets<3.0.0,>=2.0.0->sae-dashboard==0.3.0) (3.4.1)\n",
      "Requirement already satisfied: multiprocess in /usr/local/lib/python3.10/dist-packages (from datasets<3.0.0,>=2.0.0->sae-dashboard==0.3.0) (0.70.16)\n",
      "Requirement already satisfied: fsspec<=2024.5.0,>=2023.1.0 in /usr/local/lib/python3.10/dist-packages (from fsspec[http]<=2024.5.0,>=2023.1.0->datasets<3.0.0,>=2.0.0->sae-dashboard==0.3.0) (2024.5.0)\n",
      "Requirement already satisfied: aiohttp in /usr/local/lib/python3.10/dist-packages (from datasets<3.0.0,>=2.0.0->sae-dashboard==0.3.0) (3.10.3)\n",
      "Requirement already satisfied: huggingface-hub>=0.21.2 in /usr/local/lib/python3.10/dist-packages (from datasets<3.0.0,>=2.0.0->sae-dashboard==0.3.0) (0.23.4)\n",
      "Requirement already satisfied: packaging in /usr/local/lib/python3.10/dist-packages (from datasets<3.0.0,>=2.0.0->sae-dashboard==0.3.0) (23.2)\n",
      "Requirement already satisfied: pyyaml>=5.1 in /usr/local/lib/python3.10/dist-packages (from datasets<3.0.0,>=2.0.0->sae-dashboard==0.3.0) (6.0.1)\n",
      "Requirement already satisfied: typeguard==2.13.3 in /usr/local/lib/python3.10/dist-packages (from jaxtyping<0.3.0,>=0.2.28->sae-dashboard==0.3.0) (2.13.3)\n",
      "Requirement already satisfied: contourpy>=1.0.1 in /usr/local/lib/python3.10/dist-packages (from matplotlib<4.0.0,>=3.8.4->sae-dashboard==0.3.0) (1.2.1)\n",
      "Requirement already satisfied: cycler>=0.10 in /usr/local/lib/python3.10/dist-packages (from matplotlib<4.0.0,>=3.8.4->sae-dashboard==0.3.0) (0.12.1)\n",
      "Requirement already satisfied: fonttools>=4.22.0 in /usr/local/lib/python3.10/dist-packages (from matplotlib<4.0.0,>=3.8.4->sae-dashboard==0.3.0) (4.53.1)\n",
      "Requirement already satisfied: kiwisolver>=1.3.1 in /usr/local/lib/python3.10/dist-packages (from matplotlib<4.0.0,>=3.8.4->sae-dashboard==0.3.0) (1.4.5)\n",
      "Requirement already satisfied: pillow>=8 in /usr/local/lib/python3.10/dist-packages (from matplotlib<4.0.0,>=3.8.4->sae-dashboard==0.3.0) (9.3.0)\n",
      "Requirement already satisfied: pyparsing>=2.3.1 in /usr/lib/python3/dist-packages (from matplotlib<4.0.0,>=3.8.4->sae-dashboard==0.3.0) (2.4.7)\n",
      "Requirement already satisfied: python-dateutil>=2.7 in /usr/local/lib/python3.10/dist-packages (from matplotlib<4.0.0,>=3.8.4->sae-dashboard==0.3.0) (2.8.2)\n",
      "Requirement already satisfied: markdown-it-py>=2.2.0 in /usr/local/lib/python3.10/dist-packages (from rich<14.0.0,>=13.7.1->sae-dashboard==0.3.0) (3.0.0)\n",
      "Requirement already satisfied: pygments<3.0.0,>=2.13.0 in /usr/local/lib/python3.10/dist-packages (from rich<14.0.0,>=13.7.1->sae-dashboard==0.3.0) (2.16.1)\n",
      "Requirement already satisfied: automated-interpretability<1.0.0,>=0.0.5 in /usr/local/lib/python3.10/dist-packages (from sae-lens<4.0.0,>=3.14.0->sae-dashboard==0.3.0) (0.0.5)\n",
      "Requirement already satisfied: babe<0.0.8,>=0.0.7 in /usr/local/lib/python3.10/dist-packages (from sae-lens<4.0.0,>=3.14.0->sae-dashboard==0.3.0) (0.0.7)\n",
      "Requirement already satisfied: matplotlib-inline<0.2.0,>=0.1.6 in /usr/local/lib/python3.10/dist-packages (from sae-lens<4.0.0,>=3.14.0->sae-dashboard==0.3.0) (0.1.6)\n",
      "Requirement already satisfied: nltk<4.0.0,>=3.8.1 in /usr/local/lib/python3.10/dist-packages (from sae-lens<4.0.0,>=3.14.0->sae-dashboard==0.3.0) (3.8.1)\n",
      "Requirement already satisfied: plotly<6.0.0,>=5.19.0 in /usr/local/lib/python3.10/dist-packages (from sae-lens<4.0.0,>=3.14.0->sae-dashboard==0.3.0) (5.23.0)\n",
      "Requirement already satisfied: plotly-express<0.5.0,>=0.4.1 in /usr/local/lib/python3.10/dist-packages (from sae-lens<4.0.0,>=3.14.0->sae-dashboard==0.3.0) (0.4.1)\n",
      "Requirement already satisfied: pytest-profiling<2.0.0,>=1.7.0 in /usr/local/lib/python3.10/dist-packages (from sae-lens<4.0.0,>=3.14.0->sae-dashboard==0.3.0) (1.7.0)\n",
      "Requirement already satisfied: python-dotenv<2.0.0,>=1.0.1 in /usr/local/lib/python3.10/dist-packages (from sae-lens<4.0.0,>=3.14.0->sae-dashboard==0.3.0) (1.0.1)\n",
      "Requirement already satisfied: pyzmq==26.0.0 in /usr/local/lib/python3.10/dist-packages (from sae-lens<4.0.0,>=3.14.0->sae-dashboard==0.3.0) (26.0.0)\n",
      "Requirement already satisfied: transformers<5.0.0,>=4.38.1 in /usr/local/lib/python3.10/dist-packages (from sae-lens<4.0.0,>=3.14.0->sae-dashboard==0.3.0) (4.42.3)\n",
      "Requirement already satisfied: typing-extensions<5.0.0,>=4.10.0 in /usr/local/lib/python3.10/dist-packages (from sae-lens<4.0.0,>=3.14.0->sae-dashboard==0.3.0) (4.12.2)\n",
      "Requirement already satisfied: zstandard<0.23.0,>=0.22.0 in /usr/local/lib/python3.10/dist-packages (from sae-lens<4.0.0,>=3.14.0->sae-dashboard==0.3.0) (0.22.0)\n",
      "Requirement already satisfied: sympy in /usr/local/lib/python3.10/dist-packages (from torch<3.0.0,>=2.0.0->sae-dashboard==0.3.0) (1.12)\n",
      "Requirement already satisfied: networkx in /usr/local/lib/python3.10/dist-packages (from torch<3.0.0,>=2.0.0->sae-dashboard==0.3.0) (3.0)\n",
      "Requirement already satisfied: jinja2 in /usr/local/lib/python3.10/dist-packages (from torch<3.0.0,>=2.0.0->sae-dashboard==0.3.0) (3.1.2)\n",
      "Requirement already satisfied: triton==2.1.0 in /usr/local/lib/python3.10/dist-packages (from torch<3.0.0,>=2.0.0->sae-dashboard==0.3.0) (2.1.0)\n",
      "Requirement already satisfied: accelerate>=0.23.0 in /usr/local/lib/python3.10/dist-packages (from transformer-lens<3.0.0,>=2.2.0->sae-dashboard==0.3.0) (0.33.0)\n",
      "Requirement already satisfied: beartype<0.15.0,>=0.14.1 in /usr/local/lib/python3.10/dist-packages (from transformer-lens<3.0.0,>=2.2.0->sae-dashboard==0.3.0) (0.14.1)\n",
      "Requirement already satisfied: better-abc<0.0.4,>=0.0.3 in /usr/local/lib/python3.10/dist-packages (from transformer-lens<3.0.0,>=2.2.0->sae-dashboard==0.3.0) (0.0.3)\n",
      "Requirement already satisfied: fancy-einsum>=0.0.3 in /usr/local/lib/python3.10/dist-packages (from transformer-lens<3.0.0,>=2.2.0->sae-dashboard==0.3.0) (0.0.3)\n",
      "Requirement already satisfied: sentencepiece in /usr/local/lib/python3.10/dist-packages (from transformer-lens<3.0.0,>=2.2.0->sae-dashboard==0.3.0) (0.2.0)\n",
      "Requirement already satisfied: wandb>=0.13.5 in /usr/local/lib/python3.10/dist-packages (from transformer-lens<3.0.0,>=2.2.0->sae-dashboard==0.3.0) (0.17.6)\n",
      "Requirement already satisfied: click>=8.0.0 in /usr/local/lib/python3.10/dist-packages (from typer<0.13.0,>=0.12.3->sae-dashboard==0.3.0) (8.1.7)\n",
      "Requirement already satisfied: shellingham>=1.3.0 in /usr/local/lib/python3.10/dist-packages (from typer<0.13.0,>=0.12.3->sae-dashboard==0.3.0) (1.5.4)\n",
      "Requirement already satisfied: psutil in /usr/local/lib/python3.10/dist-packages (from accelerate>=0.23.0->transformer-lens<3.0.0,>=2.2.0->sae-dashboard==0.3.0) (5.9.6)\n",
      "Requirement already satisfied: blobfile<3.0.0,>=2.1.1 in /usr/local/lib/python3.10/dist-packages (from automated-interpretability<1.0.0,>=0.0.5->sae-lens<4.0.0,>=3.14.0->sae-dashboard==0.3.0) (2.1.1)\n",
      "Requirement already satisfied: boostedblob<0.16.0,>=0.15.3 in /usr/local/lib/python3.10/dist-packages (from automated-interpretability<1.0.0,>=0.0.5->sae-lens<4.0.0,>=3.14.0->sae-dashboard==0.3.0) (0.15.4)\n",
      "Requirement already satisfied: httpx<0.28.0,>=0.27.0 in /usr/local/lib/python3.10/dist-packages (from automated-interpretability<1.0.0,>=0.0.5->sae-lens<4.0.0,>=3.14.0->sae-dashboard==0.3.0) (0.27.0)\n",
      "Requirement already satisfied: orjson<4.0.0,>=3.10.1 in /usr/local/lib/python3.10/dist-packages (from automated-interpretability<1.0.0,>=0.0.5->sae-lens<4.0.0,>=3.14.0->sae-dashboard==0.3.0) (3.10.7)\n",
      "Requirement already satisfied: scikit-learn<2.0.0,>=1.2.0 in /usr/local/lib/python3.10/dist-packages (from automated-interpretability<1.0.0,>=0.0.5->sae-lens<4.0.0,>=3.14.0->sae-dashboard==0.3.0) (1.5.1)\n",
      "Requirement already satisfied: tiktoken<0.7.0,>=0.6.0 in /usr/local/lib/python3.10/dist-packages (from automated-interpretability<1.0.0,>=0.0.5->sae-lens<4.0.0,>=3.14.0->sae-dashboard==0.3.0) (0.6.0)\n",
      "Requirement already satisfied: py2store in /usr/local/lib/python3.10/dist-packages (from babe<0.0.8,>=0.0.7->sae-lens<4.0.0,>=3.14.0->sae-dashboard==0.3.0) (0.1.20)\n",
      "Requirement already satisfied: graze in /usr/local/lib/python3.10/dist-packages (from babe<0.0.8,>=0.0.7->sae-lens<4.0.0,>=3.14.0->sae-dashboard==0.3.0) (0.1.24)\n",
      "Requirement already satisfied: aiohappyeyeballs>=2.3.0 in /usr/local/lib/python3.10/dist-packages (from aiohttp->datasets<3.0.0,>=2.0.0->sae-dashboard==0.3.0) (2.3.5)\n",
      "Requirement already satisfied: aiosignal>=1.1.2 in /usr/local/lib/python3.10/dist-packages (from aiohttp->datasets<3.0.0,>=2.0.0->sae-dashboard==0.3.0) (1.3.1)\n",
      "Requirement already satisfied: attrs>=17.3.0 in /usr/local/lib/python3.10/dist-packages (from aiohttp->datasets<3.0.0,>=2.0.0->sae-dashboard==0.3.0) (23.1.0)\n",
      "Requirement already satisfied: frozenlist>=1.1.1 in /usr/local/lib/python3.10/dist-packages (from aiohttp->datasets<3.0.0,>=2.0.0->sae-dashboard==0.3.0) (1.4.1)\n",
      "Requirement already satisfied: multidict<7.0,>=4.5 in /usr/local/lib/python3.10/dist-packages (from aiohttp->datasets<3.0.0,>=2.0.0->sae-dashboard==0.3.0) (6.0.5)\n",
      "Requirement already satisfied: yarl<2.0,>=1.0 in /usr/local/lib/python3.10/dist-packages (from aiohttp->datasets<3.0.0,>=2.0.0->sae-dashboard==0.3.0) (1.9.4)\n",
      "Requirement already satisfied: async-timeout<5.0,>=4.0 in /usr/local/lib/python3.10/dist-packages (from aiohttp->datasets<3.0.0,>=2.0.0->sae-dashboard==0.3.0) (4.0.3)\n",
      "Requirement already satisfied: mdurl~=0.1 in /usr/local/lib/python3.10/dist-packages (from markdown-it-py>=2.2.0->rich<14.0.0,>=13.7.1->sae-dashboard==0.3.0) (0.1.2)\n",
      "Requirement already satisfied: traitlets in /usr/local/lib/python3.10/dist-packages (from matplotlib-inline<0.2.0,>=0.1.6->sae-lens<4.0.0,>=3.14.0->sae-dashboard==0.3.0) (5.13.0)\n",
      "Requirement already satisfied: joblib in /usr/local/lib/python3.10/dist-packages (from nltk<4.0.0,>=3.8.1->sae-lens<4.0.0,>=3.14.0->sae-dashboard==0.3.0) (1.4.2)\n",
      "Requirement already satisfied: regex>=2021.8.3 in /usr/local/lib/python3.10/dist-packages (from nltk<4.0.0,>=3.8.1->sae-lens<4.0.0,>=3.14.0->sae-dashboard==0.3.0) (2024.7.24)\n",
      "Requirement already satisfied: pytz>=2020.1 in /usr/local/lib/python3.10/dist-packages (from pandas->datasets<3.0.0,>=2.0.0->sae-dashboard==0.3.0) (2024.1)\n",
      "Requirement already satisfied: tzdata>=2022.7 in /usr/local/lib/python3.10/dist-packages (from pandas->datasets<3.0.0,>=2.0.0->sae-dashboard==0.3.0) (2024.1)\n",
      "Requirement already satisfied: tenacity>=6.2.0 in /usr/local/lib/python3.10/dist-packages (from plotly<6.0.0,>=5.19.0->sae-lens<4.0.0,>=3.14.0->sae-dashboard==0.3.0) (9.0.0)\n",
      "Requirement already satisfied: statsmodels>=0.9.0 in /usr/local/lib/python3.10/dist-packages (from plotly-express<0.5.0,>=0.4.1->sae-lens<4.0.0,>=3.14.0->sae-dashboard==0.3.0) (0.14.2)\n",
      "Requirement already satisfied: scipy>=0.18 in /usr/local/lib/python3.10/dist-packages (from plotly-express<0.5.0,>=0.4.1->sae-lens<4.0.0,>=3.14.0->sae-dashboard==0.3.0) (1.14.0)\n",
      "Requirement already satisfied: patsy>=0.5 in /usr/local/lib/python3.10/dist-packages (from plotly-express<0.5.0,>=0.4.1->sae-lens<4.0.0,>=3.14.0->sae-dashboard==0.3.0) (0.5.6)\n",
      "Requirement already satisfied: six in /usr/lib/python3/dist-packages (from pytest-profiling<2.0.0,>=1.7.0->sae-lens<4.0.0,>=3.14.0->sae-dashboard==0.3.0) (1.16.0)\n",
      "Requirement already satisfied: pytest in /usr/local/lib/python3.10/dist-packages (from pytest-profiling<2.0.0,>=1.7.0->sae-lens<4.0.0,>=3.14.0->sae-dashboard==0.3.0) (7.4.3)\n",
      "Requirement already satisfied: gprof2dot in /usr/local/lib/python3.10/dist-packages (from pytest-profiling<2.0.0,>=1.7.0->sae-lens<4.0.0,>=3.14.0->sae-dashboard==0.3.0) (2024.6.6)\n",
      "Requirement already satisfied: charset-normalizer<4,>=2 in /usr/local/lib/python3.10/dist-packages (from requests>=2.32.2->datasets<3.0.0,>=2.0.0->sae-dashboard==0.3.0) (2.1.1)\n",
      "Requirement already satisfied: idna<4,>=2.5 in /usr/local/lib/python3.10/dist-packages (from requests>=2.32.2->datasets<3.0.0,>=2.0.0->sae-dashboard==0.3.0) (3.4)\n",
      "Requirement already satisfied: urllib3<3,>=1.21.1 in /usr/local/lib/python3.10/dist-packages (from requests>=2.32.2->datasets<3.0.0,>=2.0.0->sae-dashboard==0.3.0) (1.26.13)\n",
      "Requirement already satisfied: certifi>=2017.4.17 in /usr/local/lib/python3.10/dist-packages (from requests>=2.32.2->datasets<3.0.0,>=2.0.0->sae-dashboard==0.3.0) (2022.12.7)\n",
      "Requirement already satisfied: tokenizers<0.20,>=0.19 in /usr/local/lib/python3.10/dist-packages (from transformers<5.0.0,>=4.38.1->sae-lens<4.0.0,>=3.14.0->sae-dashboard==0.3.0) (0.19.1)\n",
      "Requirement already satisfied: mypy-extensions>=0.3.0 in /usr/local/lib/python3.10/dist-packages (from typing-inspect<1,>=0.4.0->dataclasses-json<0.7.0,>=0.6.4->sae-dashboard==0.3.0) (1.0.0)\n",
      "Requirement already satisfied: docker-pycreds>=0.4.0 in /usr/local/lib/python3.10/dist-packages (from wandb>=0.13.5->transformer-lens<3.0.0,>=2.2.0->sae-dashboard==0.3.0) (0.4.0)\n",
      "Requirement already satisfied: gitpython!=3.1.29,>=1.0.0 in /usr/local/lib/python3.10/dist-packages (from wandb>=0.13.5->transformer-lens<3.0.0,>=2.2.0->sae-dashboard==0.3.0) (3.1.43)\n",
      "Requirement already satisfied: platformdirs in /usr/local/lib/python3.10/dist-packages (from wandb>=0.13.5->transformer-lens<3.0.0,>=2.2.0->sae-dashboard==0.3.0) (3.11.0)\n",
      "Requirement already satisfied: protobuf!=4.21.0,<6,>=3.19.0 in /usr/local/lib/python3.10/dist-packages (from wandb>=0.13.5->transformer-lens<3.0.0,>=2.2.0->sae-dashboard==0.3.0) (5.27.3)\n",
      "Requirement already satisfied: sentry-sdk>=1.0.0 in /usr/local/lib/python3.10/dist-packages (from wandb>=0.13.5->transformer-lens<3.0.0,>=2.2.0->sae-dashboard==0.3.0) (2.13.0)\n",
      "Requirement already satisfied: setproctitle in /usr/local/lib/python3.10/dist-packages (from wandb>=0.13.5->transformer-lens<3.0.0,>=2.2.0->sae-dashboard==0.3.0) (1.3.3)\n",
      "Requirement already satisfied: setuptools in /usr/local/lib/python3.10/dist-packages (from wandb>=0.13.5->transformer-lens<3.0.0,>=2.2.0->sae-dashboard==0.3.0) (68.2.2)\n",
      "Requirement already satisfied: MarkupSafe>=2.0 in /usr/local/lib/python3.10/dist-packages (from jinja2->torch<3.0.0,>=2.0.0->sae-dashboard==0.3.0) (2.1.2)\n",
      "Requirement already satisfied: mpmath>=0.19 in /usr/local/lib/python3.10/dist-packages (from sympy->torch<3.0.0,>=2.0.0->sae-dashboard==0.3.0) (1.3.0)\n",
      "Requirement already satisfied: pycryptodomex~=3.8 in /usr/local/lib/python3.10/dist-packages (from blobfile<3.0.0,>=2.1.1->automated-interpretability<1.0.0,>=0.0.5->sae-lens<4.0.0,>=3.14.0->sae-dashboard==0.3.0) (3.20.0)\n",
      "Requirement already satisfied: lxml~=4.9 in /usr/local/lib/python3.10/dist-packages (from blobfile<3.0.0,>=2.1.1->automated-interpretability<1.0.0,>=0.0.5->sae-lens<4.0.0,>=3.14.0->sae-dashboard==0.3.0) (4.9.3)\n",
      "Requirement already satisfied: uvloop>=0.16.0 in /usr/local/lib/python3.10/dist-packages (from boostedblob<0.16.0,>=0.15.3->automated-interpretability<1.0.0,>=0.0.5->sae-lens<4.0.0,>=3.14.0->sae-dashboard==0.3.0) (0.20.0)\n",
      "Requirement already satisfied: gitdb<5,>=4.0.1 in /usr/local/lib/python3.10/dist-packages (from gitpython!=3.1.29,>=1.0.0->wandb>=0.13.5->transformer-lens<3.0.0,>=2.2.0->sae-dashboard==0.3.0) (4.0.11)\n",
      "Requirement already satisfied: anyio in /usr/local/lib/python3.10/dist-packages (from httpx<0.28.0,>=0.27.0->automated-interpretability<1.0.0,>=0.0.5->sae-lens<4.0.0,>=3.14.0->sae-dashboard==0.3.0) (4.0.0)\n",
      "Requirement already satisfied: httpcore==1.* in /usr/local/lib/python3.10/dist-packages (from httpx<0.28.0,>=0.27.0->automated-interpretability<1.0.0,>=0.0.5->sae-lens<4.0.0,>=3.14.0->sae-dashboard==0.3.0) (1.0.5)\n",
      "Requirement already satisfied: sniffio in /usr/local/lib/python3.10/dist-packages (from httpx<0.28.0,>=0.27.0->automated-interpretability<1.0.0,>=0.0.5->sae-lens<4.0.0,>=3.14.0->sae-dashboard==0.3.0) (1.3.0)\n",
      "Requirement already satisfied: h11<0.15,>=0.13 in /usr/local/lib/python3.10/dist-packages (from httpcore==1.*->httpx<0.28.0,>=0.27.0->automated-interpretability<1.0.0,>=0.0.5->sae-lens<4.0.0,>=3.14.0->sae-dashboard==0.3.0) (0.14.0)\n",
      "Requirement already satisfied: threadpoolctl>=3.1.0 in /usr/local/lib/python3.10/dist-packages (from scikit-learn<2.0.0,>=1.2.0->automated-interpretability<1.0.0,>=0.0.5->sae-lens<4.0.0,>=3.14.0->sae-dashboard==0.3.0) (3.5.0)\n",
      "Requirement already satisfied: dol in /usr/local/lib/python3.10/dist-packages (from graze->babe<0.0.8,>=0.0.7->sae-lens<4.0.0,>=3.14.0->sae-dashboard==0.3.0) (0.2.58)\n",
      "Requirement already satisfied: config2py in /usr/local/lib/python3.10/dist-packages (from py2store->babe<0.0.8,>=0.0.7->sae-lens<4.0.0,>=3.14.0->sae-dashboard==0.3.0) (0.1.36)\n",
      "Requirement already satisfied: importlib-resources in /usr/local/lib/python3.10/dist-packages (from py2store->babe<0.0.8,>=0.0.7->sae-lens<4.0.0,>=3.14.0->sae-dashboard==0.3.0) (6.4.2)\n",
      "Requirement already satisfied: iniconfig in /usr/local/lib/python3.10/dist-packages (from pytest->pytest-profiling<2.0.0,>=1.7.0->sae-lens<4.0.0,>=3.14.0->sae-dashboard==0.3.0) (2.0.0)\n",
      "Requirement already satisfied: pluggy<2.0,>=0.12 in /usr/local/lib/python3.10/dist-packages (from pytest->pytest-profiling<2.0.0,>=1.7.0->sae-lens<4.0.0,>=3.14.0->sae-dashboard==0.3.0) (1.5.0)\n",
      "Requirement already satisfied: exceptiongroup>=1.0.0rc8 in /usr/local/lib/python3.10/dist-packages (from pytest->pytest-profiling<2.0.0,>=1.7.0->sae-lens<4.0.0,>=3.14.0->sae-dashboard==0.3.0) (1.1.3)\n",
      "Requirement already satisfied: tomli>=1.0.0 in /usr/local/lib/python3.10/dist-packages (from pytest->pytest-profiling<2.0.0,>=1.7.0->sae-lens<4.0.0,>=3.14.0->sae-dashboard==0.3.0) (2.0.1)\n",
      "Requirement already satisfied: smmap<6,>=3.0.1 in /usr/local/lib/python3.10/dist-packages (from gitdb<5,>=4.0.1->gitpython!=3.1.29,>=1.0.0->wandb>=0.13.5->transformer-lens<3.0.0,>=2.2.0->sae-dashboard==0.3.0) (5.0.1)\n",
      "Requirement already satisfied: i2 in /usr/local/lib/python3.10/dist-packages (from config2py->py2store->babe<0.0.8,>=0.0.7->sae-lens<4.0.0,>=3.14.0->sae-dashboard==0.3.0) (0.1.25)\n",
      "\u001b[33mWARNING: Running pip as the 'root' user can result in broken permissions and conflicting behaviour with the system package manager. It is recommended to use a virtual environment instead: https://pip.pypa.io/warnings/venv\u001b[0m\u001b[33m\n",
      "\u001b[0m\n",
      "\u001b[1m[\u001b[0m\u001b[34;49mnotice\u001b[0m\u001b[1;39;49m]\u001b[0m\u001b[39;49m A new release of pip is available: \u001b[0m\u001b[31;49m23.3.1\u001b[0m\u001b[39;49m -> \u001b[0m\u001b[32;49m24.2\u001b[0m\n",
      "\u001b[1m[\u001b[0m\u001b[34;49mnotice\u001b[0m\u001b[1;39;49m]\u001b[0m\u001b[39;49m To update, run: \u001b[0m\u001b[32;49mpython -m pip install --upgrade pip\u001b[0m\n"
     ]
    }
   ],
   "source": [
    "!pip install git+https://github.com/jbloomAus/SAEDashboard.git"
   ]
  },
  {
   "cell_type": "code",
   "execution_count": 2,
   "metadata": {},
   "outputs": [],
   "source": [
    "DTYPE = 'bfloat16'\n",
    "ctx_length = 128\n",
    "subject = \"college_math_cleaned\"\n",
    "import os"
   ]
  },
  {
   "cell_type": "code",
   "execution_count": 3,
   "metadata": {},
   "outputs": [
    {
     "data": {
      "text/plain": [
       "<torch.autograd.grad_mode.set_grad_enabled at 0x7fbd72ed93c0>"
      ]
     },
     "execution_count": 3,
     "metadata": {},
     "output_type": "execute_result"
    }
   ],
   "source": [
    "%load_ext autoreload\n",
    "%autoreload 2\n",
    "import os\n",
    "import sys\n",
    "sys.path.append(\"/root/specialised-SAEs/\")\n",
    "from huggingface_hub import hf_hub_download\n",
    "from sae_lens.sae import SAE\n",
    "from sae_lens.training.training_sae import TrainingSAE\n",
    "from sae_lens.training.activations_store import ActivationsStore\n",
    "from sae_lens.config import LanguageModelSAERunnerConfig\n",
    "from sae_lens.sae_training_runner import SAETrainingRunner\n",
    "from load_sae_from_hf import load_sae_from_hf\n",
    "from tqdm import tqdm\n",
    "import gc\n",
    "import torch\n",
    "torch.set_grad_enabled(False)"
   ]
  },
  {
   "cell_type": "code",
   "execution_count": 4,
   "metadata": {},
   "outputs": [],
   "source": [
    "# callum imports \n",
    "from IPython import get_ipython # type: ignore\n",
    "ipython = get_ipython(); assert ipython is not None\n",
    "\n",
    "# Standard imports\n",
    "import torch\n",
    "from datasets import load_dataset\n",
    "import webbrowser\n",
    "import os\n",
    "from transformer_lens import utils, HookedTransformer\n",
    "from datasets.arrow_dataset import Dataset\n",
    "from huggingface_hub import hf_hub_download\n",
    "import time"
   ]
  },
  {
   "cell_type": "markdown",
   "metadata": {},
   "source": [
    "## Load stuff"
   ]
  },
  {
   "cell_type": "code",
   "execution_count": 5,
   "metadata": {},
   "outputs": [
    {
     "name": "stderr",
     "output_type": "stream",
     "text": [
      "`config.hidden_act` is ignored, you should use `config.hidden_activation` instead.\n",
      "Gemma's activation function will be set to `gelu_pytorch_tanh`. Please, use\n",
      "`config.hidden_activation` if you want to override this behaviour.\n",
      "See https://github.com/huggingface/transformers/pull/29402 for more details.\n"
     ]
    },
    {
     "data": {
      "application/vnd.jupyter.widget-view+json": {
       "model_id": "c9f6546d30014a9e8f1333c66c58ea83",
       "version_major": 2,
       "version_minor": 0
      },
      "text/plain": [
       "Loading checkpoint shards:   0%|          | 0/2 [00:00<?, ?it/s]"
      ]
     },
     "metadata": {},
     "output_type": "display_data"
    },
    {
     "name": "stdout",
     "output_type": "stream",
     "text": [
      "Loaded pretrained model gemma-2b-it into HookedTransformer\n"
     ]
    }
   ],
   "source": [
    "model = HookedTransformer.from_pretrained_no_processing(\"gemma-2b-it\", device=\"cuda\", dtype=DTYPE)"
   ]
  },
  {
   "cell_type": "markdown",
   "metadata": {},
   "source": [
    "# Get dashboards"
   ]
  },
  {
   "cell_type": "code",
   "execution_count": 50,
   "metadata": {},
   "outputs": [
    {
     "data": {
      "application/vnd.jupyter.widget-view+json": {
       "model_id": "aad262a6cc0d4fca83e3c31276e55e6e",
       "version_major": 2,
       "version_minor": 0
      },
      "text/plain": [
       "(…)1=1_expansion=16_tokens=8192000_cfg.json:   0%|          | 0.00/2.71k [00:00<?, ?B/s]"
      ]
     },
     "metadata": {},
     "output_type": "display_data"
    },
    {
     "data": {
      "application/vnd.jupyter.widget-view+json": {
       "model_id": "f6612fb0dc8b465fb16760db25479515",
       "version_major": 2,
       "version_minor": 0
      },
      "text/plain": [
       "sae_weights.safetensors:   0%|          | 0.00/269M [00:00<?, ?B/s]"
      ]
     },
     "metadata": {},
     "output_type": "display_data"
    },
    {
     "data": {
      "application/vnd.jupyter.widget-view+json": {
       "model_id": "b05d09079b0d488aa1f223d33b767e5c",
       "version_major": 2,
       "version_minor": 0
      },
      "text/plain": [
       "(…)_expansion=16_tokens=8192000.safetensors:   0%|          | 0.00/269M [00:00<?, ?B/s]"
      ]
     },
     "metadata": {},
     "output_type": "display_data"
    },
    {
     "data": {
      "application/vnd.jupyter.widget-view+json": {
       "model_id": "f5a18cc50e5a443d9adde46fe69a4277",
       "version_major": 2,
       "version_minor": 0
      },
      "text/plain": [
       "(…)1=1_expansion=16_tokens=8192000_cfg.json:   0%|          | 0.00/2.72k [00:00<?, ?B/s]"
      ]
     },
     "metadata": {},
     "output_type": "display_data"
    },
    {
     "data": {
      "application/vnd.jupyter.widget-view+json": {
       "model_id": "7950903189ee49c18b9430d21101fc78",
       "version_major": 2,
       "version_minor": 0
      },
      "text/plain": [
       "sae_weights.safetensors:   0%|          | 0.00/269M [00:00<?, ?B/s]"
      ]
     },
     "metadata": {},
     "output_type": "display_data"
    },
    {
     "data": {
      "application/vnd.jupyter.widget-view+json": {
       "model_id": "0648d8da15334e638ed66cfa64bdbad7",
       "version_major": 2,
       "version_minor": 0
      },
      "text/plain": [
       "cfg.json:   0%|          | 0.00/786 [00:00<?, ?B/s]"
      ]
     },
     "metadata": {},
     "output_type": "display_data"
    },
    {
     "data": {
      "application/vnd.jupyter.widget-view+json": {
       "model_id": "cb66a3d81e15457e8ced5c713ae1ee9b",
       "version_major": 2,
       "version_minor": 0
      },
      "text/plain": [
       "(…)_expansion=16_tokens=8192000.safetensors:   0%|          | 0.00/269M [00:00<?, ?B/s]"
      ]
     },
     "metadata": {},
     "output_type": "display_data"
    },
    {
     "data": {
      "application/vnd.jupyter.widget-view+json": {
       "model_id": "5f39b2dedf5c4b00a120a32e6943707a",
       "version_major": 2,
       "version_minor": 0
      },
      "text/plain": [
       "(…)1=1_expansion=16_tokens=8192000_cfg.json:   0%|          | 0.00/2.72k [00:00<?, ?B/s]"
      ]
     },
     "metadata": {},
     "output_type": "display_data"
    },
    {
     "data": {
      "application/vnd.jupyter.widget-view+json": {
       "model_id": "348b94bc39a74967a7ce49901367d055",
       "version_major": 2,
       "version_minor": 0
      },
      "text/plain": [
       "sae_weights.safetensors:   0%|          | 0.00/269M [00:00<?, ?B/s]"
      ]
     },
     "metadata": {},
     "output_type": "display_data"
    },
    {
     "data": {
      "application/vnd.jupyter.widget-view+json": {
       "model_id": "ea3168381ba04802bf256b05ee4c2434",
       "version_major": 2,
       "version_minor": 0
      },
      "text/plain": [
       "cfg.json:   0%|          | 0.00/786 [00:00<?, ?B/s]"
      ]
     },
     "metadata": {},
     "output_type": "display_data"
    },
    {
     "data": {
      "application/vnd.jupyter.widget-view+json": {
       "model_id": "692342ce52c143f29d5e4567e081089f",
       "version_major": 2,
       "version_minor": 0
      },
      "text/plain": [
       "(…)_expansion=16_tokens=8192000.safetensors:   0%|          | 0.00/269M [00:00<?, ?B/s]"
      ]
     },
     "metadata": {},
     "output_type": "display_data"
    },
    {
     "data": {
      "application/vnd.jupyter.widget-view+json": {
       "model_id": "ea189923b7f0494681d611f97adf7c13",
       "version_major": 2,
       "version_minor": 0
      },
      "text/plain": [
       "(…)1=1_expansion=16_tokens=8192000_cfg.json:   0%|          | 0.00/2.73k [00:00<?, ?B/s]"
      ]
     },
     "metadata": {},
     "output_type": "display_data"
    },
    {
     "data": {
      "application/vnd.jupyter.widget-view+json": {
       "model_id": "a1bd60821d854e7b8d878fdc20f3fad8",
       "version_major": 2,
       "version_minor": 0
      },
      "text/plain": [
       "sae_weights.safetensors:   0%|          | 0.00/269M [00:00<?, ?B/s]"
      ]
     },
     "metadata": {},
     "output_type": "display_data"
    },
    {
     "data": {
      "application/vnd.jupyter.widget-view+json": {
       "model_id": "045ddd7c7187407ca59c00aa49d8b8ea",
       "version_major": 2,
       "version_minor": 0
      },
      "text/plain": [
       "cfg.json:   0%|          | 0.00/786 [00:00<?, ?B/s]"
      ]
     },
     "metadata": {},
     "output_type": "display_data"
    },
    {
     "data": {
      "application/vnd.jupyter.widget-view+json": {
       "model_id": "63ff414ec651424c8f3d1f750d797813",
       "version_major": 2,
       "version_minor": 0
      },
      "text/plain": [
       "(…)_expansion=16_tokens=8192000.safetensors:   0%|          | 0.00/269M [00:00<?, ?B/s]"
      ]
     },
     "metadata": {},
     "output_type": "display_data"
    },
    {
     "data": {
      "application/vnd.jupyter.widget-view+json": {
       "model_id": "c41af5ed5b0747a98550f4f032ff8eb0",
       "version_major": 2,
       "version_minor": 0
      },
      "text/plain": [
       "(…)1=1_expansion=16_tokens=8192000_cfg.json:   0%|          | 0.00/2.73k [00:00<?, ?B/s]"
      ]
     },
     "metadata": {},
     "output_type": "display_data"
    },
    {
     "data": {
      "application/vnd.jupyter.widget-view+json": {
       "model_id": "c777570e898449048c04a77c494c08cb",
       "version_major": 2,
       "version_minor": 0
      },
      "text/plain": [
       "sae_weights.safetensors:   0%|          | 0.00/269M [00:00<?, ?B/s]"
      ]
     },
     "metadata": {},
     "output_type": "display_data"
    },
    {
     "data": {
      "application/vnd.jupyter.widget-view+json": {
       "model_id": "17d62f7d1e2a48d0aab975f7ab64faad",
       "version_major": 2,
       "version_minor": 0
      },
      "text/plain": [
       "cfg.json:   0%|          | 0.00/786 [00:00<?, ?B/s]"
      ]
     },
     "metadata": {},
     "output_type": "display_data"
    },
    {
     "data": {
      "application/vnd.jupyter.widget-view+json": {
       "model_id": "d18d8b3bf7594aa2ac6d8129c88611e4",
       "version_major": 2,
       "version_minor": 0
      },
      "text/plain": [
       "(…)_expansion=16_tokens=8192000.safetensors:   0%|          | 0.00/269M [00:00<?, ?B/s]"
      ]
     },
     "metadata": {},
     "output_type": "display_data"
    },
    {
     "data": {
      "application/vnd.jupyter.widget-view+json": {
       "model_id": "6647f23078db42e480cf3f7989a43770",
       "version_major": 2,
       "version_minor": 0
      },
      "text/plain": [
       "(…)1=1_expansion=16_tokens=8192000_cfg.json:   0%|          | 0.00/2.73k [00:00<?, ?B/s]"
      ]
     },
     "metadata": {},
     "output_type": "display_data"
    },
    {
     "data": {
      "application/vnd.jupyter.widget-view+json": {
       "model_id": "a204251336b54f0882d9647c7846888a",
       "version_major": 2,
       "version_minor": 0
      },
      "text/plain": [
       "sae_weights.safetensors:   0%|          | 0.00/269M [00:00<?, ?B/s]"
      ]
     },
     "metadata": {},
     "output_type": "display_data"
    },
    {
     "data": {
      "application/vnd.jupyter.widget-view+json": {
       "model_id": "e0553428fc614e398e39fa43a2635742",
       "version_major": 2,
       "version_minor": 0
      },
      "text/plain": [
       "cfg.json:   0%|          | 0.00/786 [00:00<?, ?B/s]"
      ]
     },
     "metadata": {},
     "output_type": "display_data"
    },
    {
     "data": {
      "application/vnd.jupyter.widget-view+json": {
       "model_id": "4fed6930ced642c98b5ad419fe8d78ac",
       "version_major": 2,
       "version_minor": 0
      },
      "text/plain": [
       "(…)_expansion=16_tokens=8192000.safetensors:   0%|          | 0.00/269M [00:00<?, ?B/s]"
      ]
     },
     "metadata": {},
     "output_type": "display_data"
    },
    {
     "data": {
      "application/vnd.jupyter.widget-view+json": {
       "model_id": "0005c518581c418fa521231cca32aa51",
       "version_major": 2,
       "version_minor": 0
      },
      "text/plain": [
       "(…)1=1_expansion=16_tokens=8192000_cfg.json:   0%|          | 0.00/2.72k [00:00<?, ?B/s]"
      ]
     },
     "metadata": {},
     "output_type": "display_data"
    },
    {
     "data": {
      "application/vnd.jupyter.widget-view+json": {
       "model_id": "1fa8151d7ea3428087ebdab06b12c6ec",
       "version_major": 2,
       "version_minor": 0
      },
      "text/plain": [
       "sae_weights.safetensors:   0%|          | 0.00/269M [00:00<?, ?B/s]"
      ]
     },
     "metadata": {},
     "output_type": "display_data"
    },
    {
     "data": {
      "application/vnd.jupyter.widget-view+json": {
       "model_id": "94a117ccf4c44c06b265f7ef7ae205f9",
       "version_major": 2,
       "version_minor": 0
      },
      "text/plain": [
       "cfg.json:   0%|          | 0.00/786 [00:00<?, ?B/s]"
      ]
     },
     "metadata": {},
     "output_type": "display_data"
    },
    {
     "data": {
      "application/vnd.jupyter.widget-view+json": {
       "model_id": "89b15228e67344ebaebff0fd4996386b",
       "version_major": 2,
       "version_minor": 0
      },
      "text/plain": [
       "(…)_expansion=16_tokens=8192000.safetensors:   0%|          | 0.00/269M [00:00<?, ?B/s]"
      ]
     },
     "metadata": {},
     "output_type": "display_data"
    },
    {
     "data": {
      "application/vnd.jupyter.widget-view+json": {
       "model_id": "99e1ad3bd65742acaabc82d7965b3f9c",
       "version_major": 2,
       "version_minor": 0
      },
      "text/plain": [
       "(…)1=1_expansion=16_tokens=8192000_cfg.json:   0%|          | 0.00/2.71k [00:00<?, ?B/s]"
      ]
     },
     "metadata": {},
     "output_type": "display_data"
    }
   ],
   "source": [
    "from einops import einsum\n",
    "most_changed_ids = {}\n",
    "for subject in  [\"hs_bio_cleaned\",\n",
    "                \"hs_math_cleaned\", \"hs_phys_cleaned\", \n",
    "                \"college_bio_cleaned\", \"college_math_cleaned\", \"college_phys_cleaned\",\n",
    "                \"history_cleaned\", \"econ_cleaned\"\n",
    "                ]:\n",
    "    old_gsae = load_sae_from_hf(f\"jacobcd52/gemma2-gsae\",\n",
    "                                \"sae_weights.safetensors\",\n",
    "                                \"cfg.json\",\n",
    "                                device=\"cuda\", dtype=DTYPE)\n",
    "\n",
    "    new_gsae = load_sae_from_hf(f\"jacobcd52/gemma-2b-it-gsae-ft-{subject}\",\n",
    "                            f\"gsaefinetune_gemma-2b-it_layer12_{subject}_l1=1_expansion=16_tokens=8192000.safetensors\",\n",
    "                            f\"gsaefinetune_gemma-2b-it_layer12_{subject}_l1=1_expansion=16_tokens=8192000_cfg.json\",\n",
    "                            device=\"cuda\", dtype=DTYPE)\n",
    "    old_W_enc = old_gsae.W_enc / old_gsae.W_enc.norm(dim=0)\n",
    "    new_W_enc = new_gsae.W_enc / new_gsae.W_enc.norm(dim=0)\n",
    "\n",
    "    # max_cossims = einsum(old_W_enc, new_W_enc, \"d f_old, d f_new -> f_old f_new\").max(0).values.to(torch.float32)\n",
    "    max_cossims = (old_W_enc.T @ new_W_enc).max(dim=0).values.to(torch.float32)\n",
    "    most_changed_ids[subject] = max_cossims.topk(100, largest=False).indices.cpu().numpy()"
   ]
  },
  {
   "cell_type": "code",
   "execution_count": 56,
   "metadata": {},
   "outputs": [
    {
     "name": "stdout",
     "output_type": "stream",
     "text": [
      "owt_tokens has shape torch.Size([85976, 128])\n",
      "total number of tokens: 11 million\n",
      "\n",
      "spec_tokens has shape torch.Size([19811, 128])\n",
      "total number of tokens: 2 million\n"
     ]
    },
    {
     "data": {
      "application/vnd.jupyter.widget-view+json": {
       "model_id": "f54b68a2791a4f7ba27873f6f68b4f0c",
       "version_major": 2,
       "version_minor": 0
      },
      "text/plain": [
       "(…)1=1_expansion=16_tokens=8192000_cfg.json:   0%|          | 0.00/2.71k [00:00<?, ?B/s]"
      ]
     },
     "metadata": {},
     "output_type": "display_data"
    },
    {
     "data": {
      "application/vnd.jupyter.widget-view+json": {
       "model_id": "5ed9654a9eae43f1962956c7c1f35794",
       "version_major": 2,
       "version_minor": 0
      },
      "text/plain": [
       "Forward passes to cache data for vis:   0%|          | 0/40 [00:00<?, ?it/s]"
      ]
     },
     "metadata": {},
     "output_type": "display_data"
    },
    {
     "data": {
      "application/vnd.jupyter.widget-view+json": {
       "model_id": "bd08841b11a442faad7769e30daaae16",
       "version_major": 2,
       "version_minor": 0
      },
      "text/plain": [
       "Extracting vis data from cached data:   0%|          | 0/100 [00:00<?, ?it/s]"
      ]
     },
     "metadata": {},
     "output_type": "display_data"
    },
    {
     "name": "stdout",
     "output_type": "stream",
     "text": [
      "all_feat_acts dtype: torch.float32\n",
      "all_feat_acts shape: torch.Size([10000, 128, 100])\n"
     ]
    },
    {
     "data": {
      "text/html": [
       "<pre style=\"white-space:pre;overflow-x:auto;line-height:normal;font-family:Menlo,'DejaVu Sans Mono',consolas,'Courier New',monospace\">┏━━━━━━┳━━━━━━┳━━━━━━━┓\n",
       "┃<span style=\"font-weight: bold\"> Task </span>┃<span style=\"font-weight: bold\"> Time </span>┃<span style=\"font-weight: bold\"> Pct % </span>┃\n",
       "┡━━━━━━╇━━━━━━╇━━━━━━━┩\n",
       "└──────┴──────┴───────┘\n",
       "</pre>\n"
      ],
      "text/plain": [
       "┏━━━━━━┳━━━━━━┳━━━━━━━┓\n",
       "┃\u001b[1m \u001b[0m\u001b[1mTask\u001b[0m\u001b[1m \u001b[0m┃\u001b[1m \u001b[0m\u001b[1mTime\u001b[0m\u001b[1m \u001b[0m┃\u001b[1m \u001b[0m\u001b[1mPct %\u001b[0m\u001b[1m \u001b[0m┃\n",
       "┡━━━━━━╇━━━━━━╇━━━━━━━┩\n",
       "└──────┴──────┴───────┘\n"
      ]
     },
     "metadata": {},
     "output_type": "display_data"
    },
    {
     "data": {
      "application/vnd.jupyter.widget-view+json": {
       "model_id": "e9b8cd2d5fb7416cafcea9b1f4e17578",
       "version_major": 2,
       "version_minor": 0
      },
      "text/plain": [
       "Saving feature-centric vis:   0%|          | 0/100 [00:00<?, ?it/s]"
      ]
     },
     "metadata": {},
     "output_type": "display_data"
    },
    {
     "data": {
      "application/vnd.jupyter.widget-view+json": {
       "model_id": "b57083dab4db4e6e92fe7eae06bedb24",
       "version_major": 2,
       "version_minor": 0
      },
      "text/plain": [
       "Forward passes to cache data for vis:   0%|          | 0/40 [00:00<?, ?it/s]"
      ]
     },
     "metadata": {},
     "output_type": "display_data"
    },
    {
     "data": {
      "application/vnd.jupyter.widget-view+json": {
       "model_id": "251a88a4ae2e4f9eb4ee0cb7b509d7d1",
       "version_major": 2,
       "version_minor": 0
      },
      "text/plain": [
       "Extracting vis data from cached data:   0%|          | 0/100 [00:00<?, ?it/s]"
      ]
     },
     "metadata": {},
     "output_type": "display_data"
    }
   ],
   "source": [
    "from sae_dashboard.sae_vis_data import SaeVisConfig\n",
    "from sae_dashboard.sae_vis_runner import SaeVisRunner\n",
    "from sae_dashboard.data_writing_fns import save_feature_centric_vis\n",
    "import gc\n",
    "from analysis_fns import get_owt_and_spec_tokens\n",
    "\n",
    "for subject in  [\"hs_bio_cleaned\",\n",
    "                \"hs_math_cleaned\", \"hs_phys_cleaned\", \n",
    "                \"college_bio_cleaned\", \"college_math_cleaned\", \"college_phys_cleaned\",\n",
    "                \"history_cleaned\", \"econ_cleaned\"\n",
    "                ]:\n",
    "    owt_tokens, spec_tokens = get_owt_and_spec_tokens(model, f\"jacobcd52/{subject}\")\n",
    "    sae = load_sae_from_hf(f\"jacobcd52/gemma-2b-it-gsae-ft-{subject}\",\n",
    "                            f\"gsaefinetune_gemma-2b-it_layer12_{subject}_l1=1_expansion=16_tokens=8192000.safetensors\",\n",
    "                            f\"gsaefinetune_gemma-2b-it_layer12_{subject}_l1=1_expansion=16_tokens=8192000_cfg.json\",\n",
    "                            device=\"cuda\", dtype=DTYPE)\n",
    "    sae.cfg.apply_b_dec_to_input = False\n",
    "          \n",
    "    feature_vis_config_gpt = SaeVisConfig(\n",
    "        hook_point=sae.cfg.hook_name,\n",
    "        features=most_changed_ids[subject].tolist(),\n",
    "        minibatch_size_features=128,\n",
    "        minibatch_size_tokens=256,\n",
    "        verbose=True,\n",
    "        device=\"cuda\",\n",
    "    )\n",
    "\n",
    "    visualization_data_gpt = SaeVisRunner(feature_vis_config_gpt).run(\n",
    "        encoder=sae, # type: ignore\n",
    "        model=model,\n",
    "        tokens=spec_tokens[:10_000],  # type: ignore\n",
    ")\n",
    "\n",
    "    filename = f\"dashboards/gsae-ft_{subject}_spec.html\"\n",
    "\n",
    "    # create the file path if it doesn't exist\n",
    "    if not os.path.exists(os.path.dirname(filename)):\n",
    "        os.makedirs(os.path.dirname(filename))\n",
    "    save_feature_centric_vis(sae_vis_data=visualization_data_gpt, filename=filename)\n",
    "\n",
    "\n",
    "    feature_vis_config_gpt = SaeVisConfig(\n",
    "        hook_point=sae.cfg.hook_name,\n",
    "        features=most_changed_ids[subject].tolist(),\n",
    "        minibatch_size_features=128,\n",
    "        minibatch_size_tokens=512,\n",
    "        verbose=True,\n",
    "        device=\"cuda\",\n",
    "    )\n",
    "\n",
    "    visualization_data_gpt = SaeVisRunner(feature_vis_config_gpt).run(\n",
    "        encoder=sae, # type: ignore\n",
    "        model=model,\n",
    "        tokens=owt_tokens[:20_000],  # type: ignore\n",
    ")\n",
    "\n",
    "    filename = f\"dashboards/gsae-ft_{subject}_owt.html\"\n",
    "\n",
    "    # create the file path if it doesn't exist\n",
    "    if not os.path.exists(os.path.dirname(filename)):\n",
    "        os.makedirs(os.path.dirname(filename))\n",
    "    save_feature_centric_vis(sae_vis_data=visualization_data_gpt, filename=filename)"
   ]
  },
  {
   "cell_type": "code",
   "execution_count": null,
   "metadata": {},
   "outputs": [],
   "source": []
  }
 ],
 "metadata": {
  "kernelspec": {
   "display_name": "Python 3 (ipykernel)",
   "language": "python",
   "name": "python3"
  },
  "language_info": {
   "codemirror_mode": {
    "name": "ipython",
    "version": 3
   },
   "file_extension": ".py",
   "mimetype": "text/x-python",
   "name": "python",
   "nbconvert_exporter": "python",
   "pygments_lexer": "ipython3",
   "version": "3.10.12"
  }
 },
 "nbformat": 4,
 "nbformat_minor": 2
}
