{
 "cells": [
  {
   "cell_type": "code",
   "execution_count": 2,
   "metadata": {},
   "outputs": [
    {
     "name": "stdout",
     "output_type": "stream",
     "text": [
      "The autoreload extension is already loaded. To reload it, use:\n",
      "  %reload_ext autoreload\n"
     ]
    },
    {
     "name": "stderr",
     "output_type": "stream",
     "text": [
      "/usr/local/lib/python3.10/dist-packages/transformers/utils/generic.py:441: UserWarning: torch.utils._pytree._register_pytree_node is deprecated. Please use torch.utils._pytree.register_pytree_node instead.\n",
      "  _torch_pytree._register_pytree_node(\n",
      "/usr/local/lib/python3.10/dist-packages/transformers/utils/generic.py:309: UserWarning: torch.utils._pytree._register_pytree_node is deprecated. Please use torch.utils._pytree.register_pytree_node instead.\n",
      "  _torch_pytree._register_pytree_node(\n",
      "/usr/local/lib/python3.10/dist-packages/transformers/utils/generic.py:309: UserWarning: torch.utils._pytree._register_pytree_node is deprecated. Please use torch.utils._pytree.register_pytree_node instead.\n",
      "  _torch_pytree._register_pytree_node(\n"
     ]
    }
   ],
   "source": [
    "%load_ext autoreload\n",
    "%autoreload 2\n",
    "import os\n",
    "import sys\n",
    "sys.path.append(\"/root/specialised-SAEs/\")\n",
    "from huggingface_hub import hf_hub_download\n",
    "from sae_lens.sae import SAE\n"
   ]
  },
  {
   "cell_type": "code",
   "execution_count": 3,
   "metadata": {},
   "outputs": [
    {
     "ename": "SyntaxError",
     "evalue": "'(' was never closed (1218212934.py, line 35)",
     "output_type": "error",
     "traceback": [
      "\u001b[0;36m  Cell \u001b[0;32mIn[3], line 35\u001b[0;36m\u001b[0m\n\u001b[0;31m    gsae = SAE.load_from_pretrained(temp_gsae_path, device=device\u001b[0m\n\u001b[0m                                   ^\u001b[0m\n\u001b[0;31mSyntaxError\u001b[0m\u001b[0;31m:\u001b[0m '(' was never closed\n"
     ]
    }
   ],
   "source": [
    "def load_sae_from_hf(repo_id, filename_no_suffix, device):\n",
    "    # Make a directory to store the weights and cfg\n",
    "    temp_gsae_path = \"temp_sae\"\n",
    "    os.makedirs(temp_gsae_path, exist_ok=True)\n",
    "\n",
    "    # Define the local paths for the files\n",
    "    temp_weights_path = os.path.join(temp_gsae_path, \"sae_weights.safetensors\")\n",
    "    temp_cfg_path = os.path.join(temp_gsae_path, \"cfg.json\")\n",
    "\n",
    "    try:\n",
    "        # Download weights\n",
    "        print(f\"Downloading weights from Hugging Face Hub\")\n",
    "        downloaded_weights_path = hf_hub_download(\n",
    "            repo_id=repo_id, \n",
    "            filename=f\"{filename_no_suffix}.safetensors\", \n",
    "            local_dir=temp_gsae_path\n",
    "        )\n",
    "        os.rename(downloaded_weights_path, temp_weights_path)\n",
    "        print(f\"GSAE weights file saved as {temp_weights_path}\")\n",
    "\n",
    "        # Download cfg\n",
    "        print(f\"Downloading cfg from Hugging Face Hub\")\n",
    "        downloaded_cfg_path = hf_hub_download(\n",
    "            repo_id=repo_id, \n",
    "            filename=f\"{filename_no_suffix}_cfg.json\", \n",
    "            local_dir=temp_gsae_path\n",
    "        )\n",
    "        os.rename(downloaded_cfg_path, temp_cfg_path)\n",
    "        print(f\"GSAE cfg file saved as {temp_cfg_path}\")\n",
    "    except Exception as e:\n",
    "        print(f\"Error downloading weights or cfg: {e}\")\n",
    "\n",
    "    # Load weights into GSAE\n",
    "    print(f\"Loading weights into GSAE from {temp_weights_path}\")                \n",
    "    sae = SAE.load_from_pretrained(temp_gsae_path, device=device)\n",
    "    return sae\n",
    "\n"
   ]
  }
 ],
 "metadata": {
  "kernelspec": {
   "display_name": "Python 3",
   "language": "python",
   "name": "python3"
  },
  "language_info": {
   "codemirror_mode": {
    "name": "ipython",
    "version": 3
   },
   "file_extension": ".py",
   "mimetype": "text/x-python",
   "name": "python",
   "nbconvert_exporter": "python",
   "pygments_lexer": "ipython3",
   "version": "3.10.12"
  }
 },
 "nbformat": 4,
 "nbformat_minor": 2
}
